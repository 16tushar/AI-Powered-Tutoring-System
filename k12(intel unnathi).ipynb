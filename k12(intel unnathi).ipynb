{
 "cells": [
  {
   "cell_type": "code",
   "execution_count": 1,
   "id": "bd7633b4-04e4-484e-a6be-f333349d1f5b",
   "metadata": {},
   "outputs": [],
   "source": [
    "import pandas as pd\n",
    "import numpy as np\n",
    "from sklearn.model_selection import train_test_split\n",
    "from sklearn.preprocessing import LabelEncoder, StandardScaler\n",
    "from sklearn.tree import DecisionTreeRegressor  # Since 'Assessment score' is numerical\n",
    "from sklearn.metrics import mean_squared_error, r2_score\n",
    "import joblib"
   ]
  },
  {
   "cell_type": "code",
   "execution_count": 2,
   "id": "326a972c-a6e4-4775-b020-52f1cbfa879b",
   "metadata": {},
   "outputs": [
    {
     "name": "stdout",
     "output_type": "stream",
     "text": [
      "           Name  Gender    Phone Number  Age    Indian City    Indian State  \\\n",
      "0  VivaanSharma    Male  +91 6238846143    5           Agra   Uttar Pradesh   \n",
      "1   KiaraSharma  Female  +91 8385681260   11      Hyderabad       Telangana   \n",
      "2      MyraKhan  Female  +91 8372960268   10  Visakhapatnam  Andhra Pradesh   \n",
      "3    RohanVerma    Male  +91 8403856921   14    Bhubaneswar          Odisha   \n",
      "4     SiyaSingh  Female  +91 9904933545    4      Hyderabad       Telangana   \n",
      "\n",
      "                    Track  Time Used Per Day (hrs)  Speed of Learning (1-10)  \\\n",
      "0                 History                     6.14                      2.80   \n",
      "1                Politics                     7.26                      4.35   \n",
      "2             Mathematics                     6.15                      2.49   \n",
      "3  Basic Coding Languages                     3.60                      3.33   \n",
      "4                 Science                     1.06                      1.59   \n",
      "\n",
      "   Assessment Score  Historical Assessment Average  \n",
      "0                83                          54.41  \n",
      "1                65                          55.34  \n",
      "2                96                          60.26  \n",
      "3                86                          81.35  \n",
      "4                87                          62.14  \n",
      "<class 'pandas.core.frame.DataFrame'>\n",
      "RangeIndex: 500 entries, 0 to 499\n",
      "Data columns (total 11 columns):\n",
      " #   Column                         Non-Null Count  Dtype  \n",
      "---  ------                         --------------  -----  \n",
      " 0   Name                           500 non-null    object \n",
      " 1   Gender                         500 non-null    object \n",
      " 2   Phone Number                   500 non-null    object \n",
      " 3   Age                            500 non-null    int64  \n",
      " 4   Indian City                    500 non-null    object \n",
      " 5   Indian State                   500 non-null    object \n",
      " 6   Track                          500 non-null    object \n",
      " 7   Time Used Per Day (hrs)        500 non-null    float64\n",
      " 8   Speed of Learning (1-10)       500 non-null    float64\n",
      " 9   Assessment Score               500 non-null    int64  \n",
      " 10  Historical Assessment Average  500 non-null    float64\n",
      "dtypes: float64(3), int64(2), object(6)\n",
      "memory usage: 43.1+ KB\n",
      "None\n"
     ]
    }
   ],
   "source": [
    "# Load the dataset\n",
    "data = pd.read_csv('k12.csv')  # Replace 'filename.csv' with your file\n",
    "\n",
    "# Display the first few rows\n",
    "print(data.head())\n",
    "\n",
    "# Display dataset information\n",
    "print(data.info())"
   ]
  },
  {
   "cell_type": "code",
   "execution_count": 3,
   "id": "159fa523-68ee-4db2-8b4d-85f22908d50e",
   "metadata": {},
   "outputs": [],
   "source": [
    "# Drop duplicate rows (if any)\n",
    "data.drop_duplicates(inplace=True)\n",
    "\n",
    "# Fill missing values\n",
    "for column in data.columns:\n",
    "    if data[column].dtype == 'object':  # For categorical data\n",
    "        data[column].fillna('Unknown', inplace=True)\n",
    "    else:  # For numerical data\n",
    "        data[column].fillna(data[column].mean(), inplace=True)"
   ]
  },
  {
   "cell_type": "code",
   "execution_count": 4,
   "id": "d079b798-3246-4788-9ece-c85a73a7996d",
   "metadata": {},
   "outputs": [],
   "source": [
    "label_encoders = {}\n",
    "for column in ['Gender', 'Indian City', 'Indian State', 'Track']:\n",
    "    le = LabelEncoder()\n",
    "    data[column] = le.fit_transform(data[column])\n",
    "    label_encoders[column] = le  # Store encoders for later use"
   ]
  },
  {
   "cell_type": "code",
   "execution_count": 5,
   "id": "458eaeb3-f700-471b-b2b6-5be45c8d8670",
   "metadata": {},
   "outputs": [],
   "source": [
    "scaler = StandardScaler()\n",
    "numerical_columns = ['Age', 'Time Used Per Day (hrs)', 'Speed of Learning (1-10)', 'Historical Assessment Average']\n",
    "data[numerical_columns] = scaler.fit_transform(data[numerical_columns])"
   ]
  },
  {
   "cell_type": "code",
   "execution_count": 6,
   "id": "a8b836df-fd75-4b9e-8aed-1aefd2c9b8af",
   "metadata": {},
   "outputs": [],
   "source": [
    "# Define features (X) and target variable (y)\n",
    "X = data.drop(['Name', 'Phone Number', 'Assessment Score'], axis=1)  # Drop non-relevant columns\n",
    "y = data['Assessment Score']\n",
    "\n",
    "# Split into training (80%) and testing (20%)\n",
    "X_train, X_test, y_train, y_test = train_test_split(\n",
    "    X, y, test_size=0.2, random_state=42\n",
    ")"
   ]
  },
  {
   "cell_type": "code",
   "execution_count": 7,
   "id": "8426abcc-2ca8-4ba4-9173-fd2cbe7e2835",
   "metadata": {},
   "outputs": [
    {
     "name": "stdout",
     "output_type": "stream",
     "text": [
      "Name                              object\n",
      "Gender                             int32\n",
      "Phone Number                      object\n",
      "Age                              float64\n",
      "Indian City                        int32\n",
      "Indian State                       int32\n",
      "Track                              int32\n",
      "Time Used Per Day (hrs)          float64\n",
      "Speed of Learning (1-10)         float64\n",
      "Assessment Score                   int64\n",
      "Historical Assessment Average    float64\n",
      "dtype: object\n"
     ]
    }
   ],
   "source": [
    "print(data.dtypes)"
   ]
  },
  {
   "cell_type": "code",
   "execution_count": 8,
   "id": "a28c8a49-881b-41c7-915b-2b8fcde9677b",
   "metadata": {},
   "outputs": [],
   "source": [
    "# Identify all object (string) columns\n",
    "categorical_columns = data.select_dtypes(include='object').columns\n",
    "\n",
    "# Encode them\n",
    "label_encoders = {}\n",
    "for column in categorical_columns:\n",
    "    le = LabelEncoder()\n",
    "    data[column] = le.fit_transform(data[column].astype(str))  # Ensure all are strings before encoding\n",
    "    label_encoders[column] = le\n"
   ]
  },
  {
   "cell_type": "code",
   "execution_count": 9,
   "id": "ad46a40a-ca2e-4fb7-b501-17d2a784ea40",
   "metadata": {},
   "outputs": [
    {
     "name": "stdout",
     "output_type": "stream",
     "text": [
      "Name                               int32\n",
      "Gender                             int32\n",
      "Phone Number                       int32\n",
      "Age                              float64\n",
      "Indian City                        int32\n",
      "Indian State                       int32\n",
      "Track                              int32\n",
      "Time Used Per Day (hrs)          float64\n",
      "Speed of Learning (1-10)         float64\n",
      "Assessment Score                   int64\n",
      "Historical Assessment Average    float64\n",
      "dtype: object\n"
     ]
    }
   ],
   "source": [
    "print(data.dtypes)"
   ]
  },
  {
   "cell_type": "code",
   "execution_count": 10,
   "id": "bf301fba-fe42-440a-a630-fade840221f0",
   "metadata": {},
   "outputs": [],
   "source": [
    "# Identify non-numeric columns\n",
    "non_numeric_columns = data.select_dtypes(include='object').columns\n",
    "\n",
    "# Display unique values in each non-numeric column\n",
    "for col in non_numeric_columns:\n",
    "    print(f\"Column: {col}\")\n",
    "    print(data[col].unique())\n",
    "    print(\"-\" * 40)\n"
   ]
  },
  {
   "cell_type": "code",
   "execution_count": 11,
   "id": "add54efd-af85-42ec-94de-479a237fa5ae",
   "metadata": {},
   "outputs": [],
   "source": [
    "from sklearn.preprocessing import LabelEncoder\n",
    "\n",
    "# Encode categorical columns properly\n",
    "label_encoders = {}\n",
    "for col in non_numeric_columns:\n",
    "    data[col].fillna('Unknown', inplace=True)  # Handle NaN values\n",
    "    le = LabelEncoder()\n",
    "    data[col] = le.fit_transform(data[col].astype(str))  # Ensure proper encoding\n",
    "    label_encoders[col] = le\n"
   ]
  },
  {
   "cell_type": "code",
   "execution_count": 12,
   "id": "12d16185-320b-4085-8bd2-73d03d5fbc77",
   "metadata": {},
   "outputs": [
    {
     "name": "stdout",
     "output_type": "stream",
     "text": [
      "Name                               int32\n",
      "Gender                             int32\n",
      "Phone Number                       int32\n",
      "Age                              float64\n",
      "Indian City                        int32\n",
      "Indian State                       int32\n",
      "Track                              int32\n",
      "Time Used Per Day (hrs)          float64\n",
      "Speed of Learning (1-10)         float64\n",
      "Assessment Score                   int64\n",
      "Historical Assessment Average    float64\n",
      "dtype: object\n"
     ]
    }
   ],
   "source": [
    "print(data.dtypes)"
   ]
  },
  {
   "cell_type": "code",
   "execution_count": 13,
   "id": "863e2158-94a4-4c28-b473-34e9ded95827",
   "metadata": {},
   "outputs": [
    {
     "name": "stdout",
     "output_type": "stream",
     "text": [
      "Problematic Rows Found:\n",
      "Empty DataFrame\n",
      "Columns: [Gender, Age, Indian City, Indian State, Track, Time Used Per Day (hrs), Speed of Learning (1-10), Historical Assessment Average]\n",
      "Index: []\n"
     ]
    }
   ],
   "source": [
    "# Identify rows that are causing the issue\n",
    "problem_rows = X_train[~X_train.map(lambda x: pd.to_numeric(x, errors='coerce')).notna().all(axis=1)]\n",
    "\n",
    "print(\"Problematic Rows Found:\")\n",
    "print(problem_rows)\n"
   ]
  },
  {
   "cell_type": "code",
   "execution_count": 14,
   "id": "fb3094f9-eb3c-48c1-ba43-cdaff0ea3bca",
   "metadata": {},
   "outputs": [],
   "source": [
    "# Encoding categorical columns again (if needed)\n",
    "from sklearn.preprocessing import LabelEncoder\n",
    "\n",
    "label_encoders = {}\n",
    "for col in data.select_dtypes(include='object').columns:\n",
    "    data[col] = data[col].astype(str).fillna('Unknown')\n",
    "    le = LabelEncoder()\n",
    "    data[col] = le.fit_transform(data[col])\n",
    "    label_encoders[col] = le"
   ]
  },
  {
   "cell_type": "code",
   "execution_count": 15,
   "id": "3590afd1-f92f-4306-9d24-f0f8aa4bfd78",
   "metadata": {},
   "outputs": [
    {
     "name": "stdout",
     "output_type": "stream",
     "text": [
      "Categorical columns: Index([], dtype='object')\n"
     ]
    }
   ],
   "source": [
    "# Identify all object (string) columns\n",
    "categorical_columns = data.select_dtypes(include='object').columns\n",
    "print(\"Categorical columns:\", categorical_columns)"
   ]
  },
  {
   "cell_type": "code",
   "execution_count": 16,
   "id": "3920279e-04df-44de-8659-7f45e262d0fa",
   "metadata": {},
   "outputs": [],
   "source": [
    "from sklearn.preprocessing import LabelEncoder\n",
    "\n",
    "# Encode categorical columns\n",
    "label_encoders = {}\n",
    "for col in categorical_columns:\n",
    "    data[col] = data[col].astype(str).fillna('Unknown')  # Ensure no NaN values\n",
    "    le = LabelEncoder()\n",
    "    data[col] = le.fit_transform(data[col])  # Encode the values\n",
    "    label_encoders[col] = le  # Save encoder for inverse transformation if needed"
   ]
  },
  {
   "cell_type": "code",
   "execution_count": 17,
   "id": "0ff7bbdf-263c-4552-9283-ed687a07d07f",
   "metadata": {},
   "outputs": [
    {
     "name": "stdout",
     "output_type": "stream",
     "text": [
      "   Name  Gender  Phone Number       Age  Indian City  Indian State  Track  \\\n",
      "0   178       1            31 -1.392027            0            15      3   \n",
      "1   107       0           308 -0.354234            8            14      7   \n",
      "2   113       0           307 -0.527199           30             0      5   \n",
      "3   154       1           311  0.164663            3            10      0   \n",
      "4   170       0           490 -1.564993            8            14      8   \n",
      "\n",
      "   Time Used Per Day (hrs)  Speed of Learning (1-10)  Assessment Score  \\\n",
      "0                 0.800455                 -0.924008                83   \n",
      "1                 1.347420                 -0.342946                65   \n",
      "2                 0.805338                 -1.040221                96   \n",
      "3                -0.439985                 -0.725323                86   \n",
      "4                -1.680424                 -1.377612                87   \n",
      "\n",
      "   Historical Assessment Average  \n",
      "0                      -0.776040  \n",
      "1                      -0.689982  \n",
      "2                      -0.234707  \n",
      "3                       1.716867  \n",
      "4                      -0.060740  \n",
      "Name                               int32\n",
      "Gender                             int32\n",
      "Phone Number                       int32\n",
      "Age                              float64\n",
      "Indian City                        int32\n",
      "Indian State                       int32\n",
      "Track                              int32\n",
      "Time Used Per Day (hrs)          float64\n",
      "Speed of Learning (1-10)         float64\n",
      "Assessment Score                   int64\n",
      "Historical Assessment Average    float64\n",
      "dtype: object\n"
     ]
    }
   ],
   "source": [
    "print(data.head())\n",
    "print(data.dtypes)"
   ]
  },
  {
   "cell_type": "code",
   "execution_count": 30,
   "id": "b49729fc-2715-448b-8ac9-cb39173aae2f",
   "metadata": {},
   "outputs": [
    {
     "name": "stdout",
     "output_type": "stream",
     "text": [
      "Problematic Rows Found:\n",
      "Empty DataFrame\n",
      "Columns: [Gender, Age, Indian City, Indian State, Track, Time Used Per Day (hrs), Speed of Learning (1-10), Historical Assessment Average]\n",
      "Index: []\n"
     ]
    },
    {
     "name": "stderr",
     "output_type": "stream",
     "text": [
      "C:\\Users\\tushar\\AppData\\Local\\Temp\\ipykernel_14660\\1667705003.py:2: FutureWarning: DataFrame.applymap has been deprecated. Use DataFrame.map instead.\n",
      "  non_numeric_values = X_train.applymap(lambda x: isinstance(x, str))\n"
     ]
    }
   ],
   "source": [
    "# Find non-numeric values in X_train\n",
    "non_numeric_values = X_train.applymap(lambda x: isinstance(x, str))\n",
    "\n",
    "# Show rows with string values\n",
    "problem_rows = X_train[non_numeric_values.any(axis=1)]\n",
    "print(\"Problematic Rows Found:\")\n",
    "print(problem_rows)\n"
   ]
  },
  {
   "cell_type": "code",
   "execution_count": 18,
   "id": "11dcbfef-8e70-401c-853c-d144e20716c5",
   "metadata": {},
   "outputs": [
    {
     "name": "stdout",
     "output_type": "stream",
     "text": [
      "Problematic Rows Found:\n",
      "Empty DataFrame\n",
      "Columns: [Gender, Age, Indian City, Indian State, Track, Time Used Per Day (hrs), Speed of Learning (1-10), Historical Assessment Average]\n",
      "Index: []\n"
     ]
    }
   ],
   "source": [
    "# Find non-numeric values in X_train using map()\n",
    "non_numeric_values = X_train.map(lambda x: isinstance(x, str))\n",
    "\n",
    "# Show rows with string values\n",
    "problem_rows = X_train[non_numeric_values.any(axis=1)]\n",
    "print(\"Problematic Rows Found:\")\n",
    "print(problem_rows)\n"
   ]
  },
  {
   "cell_type": "code",
   "execution_count": 19,
   "id": "150b5b1d-f05d-4e48-b6a6-7eae29fb0953",
   "metadata": {},
   "outputs": [
    {
     "name": "stdout",
     "output_type": "stream",
     "text": [
      "Categorical Columns Found: Index([], dtype='object')\n"
     ]
    }
   ],
   "source": [
    "# Identify columns with non-numeric values\n",
    "categorical_columns = problem_rows.columns[non_numeric_values.any()]\n",
    "print(\"Categorical Columns Found:\", categorical_columns)"
   ]
  },
  {
   "cell_type": "code",
   "execution_count": 20,
   "id": "c5733907-0ce2-4cd8-b1cb-b60b651f5bfc",
   "metadata": {},
   "outputs": [],
   "source": [
    "from sklearn.preprocessing import LabelEncoder\n",
    "\n",
    "# Encode categorical columns\n",
    "label_encoders = {}\n",
    "for col in categorical_columns:\n",
    "    X_train[col] = X_train[col].astype(str).fillna('Unknown')  # Fill missing text data\n",
    "    X_test[col] = X_test[col].astype(str).fillna('Unknown')    # Same for test data\n",
    "    le = LabelEncoder()\n",
    "    X_train[col] = le.fit_transform(X_train[col])\n",
    "    X_test[col] = le.transform(X_test[col])  # Ensure both sets are encoded the same way\n",
    "    label_encoders[col] = le  # Save encoders for future reference"
   ]
  },
  {
   "cell_type": "code",
   "execution_count": 21,
   "id": "54d032d7-68c2-4edb-9b73-98e8da2ae8cf",
   "metadata": {},
   "outputs": [],
   "source": [
    "from sklearn.preprocessing import StandardScaler\n",
    "\n",
    "scaler = StandardScaler()\n",
    "numerical_columns = ['Age', 'Time Used Per Day (hrs)', 'Speed of Learning (1-10)', 'Historical Assessment Average']\n",
    "\n",
    "X_train[numerical_columns] = scaler.fit_transform(X_train[numerical_columns])\n",
    "X_test[numerical_columns] = scaler.transform(X_test[numerical_columns])\n"
   ]
  },
  {
   "cell_type": "code",
   "execution_count": 22,
   "id": "292a9b16-ab2b-4e8e-8553-47ff71355662",
   "metadata": {},
   "outputs": [
    {
     "data": {
      "text/html": [
       "<style>#sk-container-id-1 {color: black;background-color: white;}#sk-container-id-1 pre{padding: 0;}#sk-container-id-1 div.sk-toggleable {background-color: white;}#sk-container-id-1 label.sk-toggleable__label {cursor: pointer;display: block;width: 100%;margin-bottom: 0;padding: 0.3em;box-sizing: border-box;text-align: center;}#sk-container-id-1 label.sk-toggleable__label-arrow:before {content: \"▸\";float: left;margin-right: 0.25em;color: #696969;}#sk-container-id-1 label.sk-toggleable__label-arrow:hover:before {color: black;}#sk-container-id-1 div.sk-estimator:hover label.sk-toggleable__label-arrow:before {color: black;}#sk-container-id-1 div.sk-toggleable__content {max-height: 0;max-width: 0;overflow: hidden;text-align: left;background-color: #f0f8ff;}#sk-container-id-1 div.sk-toggleable__content pre {margin: 0.2em;color: black;border-radius: 0.25em;background-color: #f0f8ff;}#sk-container-id-1 input.sk-toggleable__control:checked~div.sk-toggleable__content {max-height: 200px;max-width: 100%;overflow: auto;}#sk-container-id-1 input.sk-toggleable__control:checked~label.sk-toggleable__label-arrow:before {content: \"▾\";}#sk-container-id-1 div.sk-estimator input.sk-toggleable__control:checked~label.sk-toggleable__label {background-color: #d4ebff;}#sk-container-id-1 div.sk-label input.sk-toggleable__control:checked~label.sk-toggleable__label {background-color: #d4ebff;}#sk-container-id-1 input.sk-hidden--visually {border: 0;clip: rect(1px 1px 1px 1px);clip: rect(1px, 1px, 1px, 1px);height: 1px;margin: -1px;overflow: hidden;padding: 0;position: absolute;width: 1px;}#sk-container-id-1 div.sk-estimator {font-family: monospace;background-color: #f0f8ff;border: 1px dotted black;border-radius: 0.25em;box-sizing: border-box;margin-bottom: 0.5em;}#sk-container-id-1 div.sk-estimator:hover {background-color: #d4ebff;}#sk-container-id-1 div.sk-parallel-item::after {content: \"\";width: 100%;border-bottom: 1px solid gray;flex-grow: 1;}#sk-container-id-1 div.sk-label:hover label.sk-toggleable__label {background-color: #d4ebff;}#sk-container-id-1 div.sk-serial::before {content: \"\";position: absolute;border-left: 1px solid gray;box-sizing: border-box;top: 0;bottom: 0;left: 50%;z-index: 0;}#sk-container-id-1 div.sk-serial {display: flex;flex-direction: column;align-items: center;background-color: white;padding-right: 0.2em;padding-left: 0.2em;position: relative;}#sk-container-id-1 div.sk-item {position: relative;z-index: 1;}#sk-container-id-1 div.sk-parallel {display: flex;align-items: stretch;justify-content: center;background-color: white;position: relative;}#sk-container-id-1 div.sk-item::before, #sk-container-id-1 div.sk-parallel-item::before {content: \"\";position: absolute;border-left: 1px solid gray;box-sizing: border-box;top: 0;bottom: 0;left: 50%;z-index: -1;}#sk-container-id-1 div.sk-parallel-item {display: flex;flex-direction: column;z-index: 1;position: relative;background-color: white;}#sk-container-id-1 div.sk-parallel-item:first-child::after {align-self: flex-end;width: 50%;}#sk-container-id-1 div.sk-parallel-item:last-child::after {align-self: flex-start;width: 50%;}#sk-container-id-1 div.sk-parallel-item:only-child::after {width: 0;}#sk-container-id-1 div.sk-dashed-wrapped {border: 1px dashed gray;margin: 0 0.4em 0.5em 0.4em;box-sizing: border-box;padding-bottom: 0.4em;background-color: white;}#sk-container-id-1 div.sk-label label {font-family: monospace;font-weight: bold;display: inline-block;line-height: 1.2em;}#sk-container-id-1 div.sk-label-container {text-align: center;}#sk-container-id-1 div.sk-container {/* jupyter's `normalize.less` sets `[hidden] { display: none; }` but bootstrap.min.css set `[hidden] { display: none !important; }` so we also need the `!important` here to be able to override the default hidden behavior on the sphinx rendered scikit-learn.org. See: https://github.com/scikit-learn/scikit-learn/issues/21755 */display: inline-block !important;position: relative;}#sk-container-id-1 div.sk-text-repr-fallback {display: none;}</style><div id=\"sk-container-id-1\" class=\"sk-top-container\"><div class=\"sk-text-repr-fallback\"><pre>DecisionTreeRegressor(random_state=42)</pre><b>In a Jupyter environment, please rerun this cell to show the HTML representation or trust the notebook. <br />On GitHub, the HTML representation is unable to render, please try loading this page with nbviewer.org.</b></div><div class=\"sk-container\" hidden><div class=\"sk-item\"><div class=\"sk-estimator sk-toggleable\"><input class=\"sk-toggleable__control sk-hidden--visually\" id=\"sk-estimator-id-1\" type=\"checkbox\" checked><label for=\"sk-estimator-id-1\" class=\"sk-toggleable__label sk-toggleable__label-arrow\">DecisionTreeRegressor</label><div class=\"sk-toggleable__content\"><pre>DecisionTreeRegressor(random_state=42)</pre></div></div></div></div></div>"
      ],
      "text/plain": [
       "DecisionTreeRegressor(random_state=42)"
      ]
     },
     "execution_count": 22,
     "metadata": {},
     "output_type": "execute_result"
    }
   ],
   "source": [
    "from sklearn.tree import DecisionTreeRegressor\n",
    "\n",
    "model = DecisionTreeRegressor(random_state=42)\n",
    "model.fit(X_train, y_train)"
   ]
  },
  {
   "cell_type": "code",
   "execution_count": 23,
   "id": "e5ae45e3-d994-4594-8cb4-df747cb82b78",
   "metadata": {},
   "outputs": [
    {
     "name": "stdout",
     "output_type": "stream",
     "text": [
      "Training Data Performance:\n",
      "Mean Squared Error (MSE): 0.00\n",
      "Mean Absolute Error (MAE): 0.00\n",
      "R-squared (R²): 1.00\n",
      "\n",
      "Test Data Performance:\n",
      "Mean Squared Error (MSE): 259.64\n",
      "Mean Absolute Error (MAE): 12.62\n",
      "R-squared (R²): -0.20\n"
     ]
    }
   ],
   "source": [
    "from sklearn.metrics import mean_squared_error, mean_absolute_error, r2_score\n",
    "\n",
    "# Predictions\n",
    "y_train_pred = model.predict(X_train)\n",
    "y_test_pred = model.predict(X_test)\n",
    "\n",
    "# Evaluation metrics\n",
    "print(\"Training Data Performance:\")\n",
    "print(f\"Mean Squared Error (MSE): {mean_squared_error(y_train, y_train_pred):.2f}\")\n",
    "print(f\"Mean Absolute Error (MAE): {mean_absolute_error(y_train, y_train_pred):.2f}\")\n",
    "print(f\"R-squared (R²): {r2_score(y_train, y_train_pred):.2f}\")\n",
    "\n",
    "print(\"\\nTest Data Performance:\")\n",
    "print(f\"Mean Squared Error (MSE): {mean_squared_error(y_test, y_test_pred):.2f}\")\n",
    "print(f\"Mean Absolute Error (MAE): {mean_absolute_error(y_test, y_test_pred):.2f}\")\n",
    "print(f\"R-squared (R²): {r2_score(y_test, y_test_pred):.2f}\")\n"
   ]
  },
  {
   "cell_type": "code",
   "execution_count": 24,
   "id": "ca721391-5912-451e-afe7-539236b8ceb2",
   "metadata": {},
   "outputs": [
    {
     "name": "stdout",
     "output_type": "stream",
     "text": [
      "X_train Columns: Index(['Gender', 'Age', 'Indian City', 'Indian State', 'Track',\n",
      "       'Time Used Per Day (hrs)', 'Speed of Learning (1-10)',\n",
      "       'Historical Assessment Average'],\n",
      "      dtype='object')\n"
     ]
    },
    {
     "ename": "NameError",
     "evalue": "name 'new_data' is not defined",
     "output_type": "error",
     "traceback": [
      "\u001b[1;31m---------------------------------------------------------------------------\u001b[0m",
      "\u001b[1;31mNameError\u001b[0m                                 Traceback (most recent call last)",
      "Cell \u001b[1;32mIn[24], line 2\u001b[0m\n\u001b[0;32m      1\u001b[0m \u001b[38;5;28mprint\u001b[39m(\u001b[38;5;124m\"\u001b[39m\u001b[38;5;124mX_train Columns:\u001b[39m\u001b[38;5;124m\"\u001b[39m, X_train\u001b[38;5;241m.\u001b[39mcolumns)\n\u001b[1;32m----> 2\u001b[0m \u001b[38;5;28mprint\u001b[39m(\u001b[38;5;124m\"\u001b[39m\u001b[38;5;124mnew_data Columns:\u001b[39m\u001b[38;5;124m\"\u001b[39m, new_data\u001b[38;5;241m.\u001b[39mcolumns)\n",
      "\u001b[1;31mNameError\u001b[0m: name 'new_data' is not defined"
     ]
    }
   ],
   "source": [
    "print(\"X_train Columns:\", X_train.columns)\n",
    "print(\"new_data Columns:\", new_data.columns)"
   ]
  },
  {
   "cell_type": "code",
   "execution_count": 38,
   "id": "88eac60d-9fcf-4771-9b72-b269bc6f099e",
   "metadata": {},
   "outputs": [
    {
     "ename": "NameError",
     "evalue": "name 'new_data' is not defined",
     "output_type": "error",
     "traceback": [
      "\u001b[1;31m---------------------------------------------------------------------------\u001b[0m",
      "\u001b[1;31mNameError\u001b[0m                                 Traceback (most recent call last)",
      "Cell \u001b[1;32mIn[38], line 1\u001b[0m\n\u001b[1;32m----> 1\u001b[0m new_data \u001b[38;5;241m=\u001b[39m new_data[X_train\u001b[38;5;241m.\u001b[39mcolumns]\n",
      "\u001b[1;31mNameError\u001b[0m: name 'new_data' is not defined"
     ]
    }
   ],
   "source": [
    "new_data = new_data[X_train.columns]"
   ]
  },
  {
   "cell_type": "code",
   "execution_count": 66,
   "id": "0d805e8f-3bd3-41e9-b947-7311294d31fd",
   "metadata": {},
   "outputs": [],
   "source": [
    "# Encode categorical data\n",
    "for col in label_encoders:\n",
    "    if col in new_data.columns:\n",
    "        new_data[col] = new_data[col].map(lambda x: label_encoders[col].classes_.tolist().index(x) \n",
    "                                          if x in label_encoders[col].classes_ \n",
    "                                          else -1)  # Assign -1 for unseen values"
   ]
  },
  {
   "cell_type": "code",
   "execution_count": 74,
   "id": "d92b522b-b9df-416b-bff2-80ac7139b6cc",
   "metadata": {},
   "outputs": [
    {
     "name": "stdout",
     "output_type": "stream",
     "text": [
      "dict_keys(['Indian City', 'Indian State', 'Track'])\n"
     ]
    }
   ],
   "source": [
    "print(label_encoders.keys())\n"
   ]
  },
  {
   "cell_type": "code",
   "execution_count": 77,
   "id": "8a367376-4b37-4d6a-a980-2fba49a216ad",
   "metadata": {},
   "outputs": [
    {
     "name": "stdout",
     "output_type": "stream",
     "text": [
      "Index(['Gender', 'Age', 'Indian City', 'Indian State', 'Track',\n",
      "       'Time Used Per Day (hrs)', 'Speed of Learning (1-10)',\n",
      "       'Historical Assessment Average'],\n",
      "      dtype='object')\n"
     ]
    }
   ],
   "source": [
    "print(X_train.columns)"
   ]
  },
  {
   "cell_type": "code",
   "execution_count": 79,
   "id": "8ee8b5be-9307-4c0a-af9d-85e624d7aa22",
   "metadata": {},
   "outputs": [],
   "source": [
    "# Ensure new_data has the same columns in the same order as X_train\n",
    "new_data = new_data[X_train.columns]"
   ]
  },
  {
   "cell_type": "code",
   "execution_count": 81,
   "id": "e02d7817-5ed0-435f-95dc-31b91a23dd9f",
   "metadata": {},
   "outputs": [
    {
     "name": "stdout",
     "output_type": "stream",
     "text": [
      "Gender                            object\n",
      "Age                              float64\n",
      "Indian City                       object\n",
      "Indian State                      object\n",
      "Track                             object\n",
      "Time Used Per Day (hrs)          float64\n",
      "Speed of Learning (1-10)         float64\n",
      "Historical Assessment Average    float64\n",
      "dtype: object\n"
     ]
    }
   ],
   "source": [
    "print(new_data.dtypes)\n"
   ]
  },
  {
   "cell_type": "code",
   "execution_count": 83,
   "id": "2657ebc2-7ead-48fb-bc03-135874ad5ad9",
   "metadata": {},
   "outputs": [],
   "source": [
    "# Encode categorical columns\n",
    "for col in ['Gender', 'Indian City', 'Indian State', 'Track']:\n",
    "    if col in new_data.columns:\n",
    "        new_data[col] = new_data[col].map(lambda x: label_encoders[col].classes_.tolist().index(x)\n",
    "                                          if x in label_encoders[col].classes_ \n",
    "                                          else -1)"
   ]
  },
  {
   "cell_type": "code",
   "execution_count": 84,
   "id": "e5ab55ef-3283-4399-b912-a937443ceca6",
   "metadata": {},
   "outputs": [
    {
     "name": "stdout",
     "output_type": "stream",
     "text": [
      "Gender                             int64\n",
      "Age                              float64\n",
      "Indian City                        int64\n",
      "Indian State                       int64\n",
      "Track                              int64\n",
      "Time Used Per Day (hrs)          float64\n",
      "Speed of Learning (1-10)         float64\n",
      "Historical Assessment Average    float64\n",
      "dtype: object\n"
     ]
    }
   ],
   "source": [
    "print(new_data.dtypes)"
   ]
  },
  {
   "cell_type": "code",
   "execution_count": 85,
   "id": "88526d55-101d-4dbd-8b01-870e2bd76130",
   "metadata": {},
   "outputs": [],
   "source": [
    "new_data = new_data[X_train.columns]\n"
   ]
  },
  {
   "cell_type": "code",
   "execution_count": 87,
   "id": "d473c62c-e803-4584-bd7b-3270cb3637f6",
   "metadata": {},
   "outputs": [],
   "source": [
    "new_data[numerical_columns] = scaler.transform(new_data[numerical_columns])\n"
   ]
  },
  {
   "cell_type": "code",
   "execution_count": 88,
   "id": "bfe3af5f-fbce-4128-b437-786b9777c630",
   "metadata": {},
   "outputs": [
    {
     "name": "stdout",
     "output_type": "stream",
     "text": [
      "Predicted Value: 97.0\n"
     ]
    }
   ],
   "source": [
    "prediction = model.predict(new_data)\n",
    "print(\"Predicted Value:\", prediction[0])"
   ]
  },
  {
   "cell_type": "code",
   "execution_count": 90,
   "id": "0c442ecf-13ef-418f-ad86-67fe19ff1df2",
   "metadata": {},
   "outputs": [
    {
     "name": "stdout",
     "output_type": "stream",
     "text": [
      "Training Data Performance:\n",
      "Mean Squared Error (MSE): 0.00\n",
      "Mean Absolute Error (MAE): 0.00\n",
      "R-squared (R²): 1.00\n",
      "\n",
      "Test Data Performance:\n",
      "Mean Squared Error (MSE): 280.74\n",
      "Mean Absolute Error (MAE): 13.10\n",
      "R-squared (R²): -0.30\n"
     ]
    }
   ],
   "source": [
    "from sklearn.metrics import mean_squared_error, mean_absolute_error, r2_score\n",
    "\n",
    "# Predictions\n",
    "y_train_pred = model.predict(X_train)\n",
    "y_test_pred = model.predict(X_test)\n",
    "\n",
    "# Evaluation metrics\n",
    "print(\"Training Data Performance:\")\n",
    "print(f\"Mean Squared Error (MSE): {mean_squared_error(y_train, y_train_pred):.2f}\")\n",
    "print(f\"Mean Absolute Error (MAE): {mean_absolute_error(y_train, y_train_pred):.2f}\")\n",
    "print(f\"R-squared (R²): {r2_score(y_train, y_train_pred):.2f}\")\n",
    "\n",
    "print(\"\\nTest Data Performance:\")\n",
    "print(f\"Mean Squared Error (MSE): {mean_squared_error(y_test, y_test_pred):.2f}\")\n",
    "print(f\"Mean Absolute Error (MAE): {mean_absolute_error(y_test, y_test_pred):.2f}\")\n",
    "print(f\"R-squared (R²): {r2_score(y_test, y_test_pred):.2f}\")\n"
   ]
  },
  {
   "cell_type": "code",
   "execution_count": 92,
   "id": "64894896-f3a7-4ada-87df-42a96ddae036",
   "metadata": {},
   "outputs": [
    {
     "name": "stdout",
     "output_type": "stream",
     "text": [
      "y_train length: 400\n",
      "y_train_pred length: 400\n",
      "y_test length: 100\n",
      "y_test_pred length: 100\n"
     ]
    }
   ],
   "source": [
    "print(f\"y_train length: {len(y_train)}\")\n",
    "print(f\"y_train_pred length: {len(y_train_pred)}\")\n",
    "print(f\"y_test length: {len(y_test)}\")\n",
    "print(f\"y_test_pred length: {len(y_test_pred)}\")"
   ]
  },
  {
   "cell_type": "code",
   "execution_count": 93,
   "id": "2de16a31-96f2-401d-a570-eb7b1b78995e",
   "metadata": {},
   "outputs": [
    {
     "name": "stdout",
     "output_type": "stream",
     "text": [
      "Results saved successfully!\n"
     ]
    }
   ],
   "source": [
    "# Creating two separate DataFrames\n",
    "train_results = pd.DataFrame({\n",
    "    'Actual (Train)': y_train,\n",
    "    'Predicted (Train)': y_train_pred\n",
    "})\n",
    "\n",
    "test_results = pd.DataFrame({\n",
    "    'Actual (Test)': y_test,\n",
    "    'Predicted (Test)': y_test_pred\n",
    "})\n",
    "\n",
    "# Combining the two with NaN padding where needed\n",
    "results = pd.concat([train_results, test_results], axis=1)\n",
    "\n",
    "# Saving to CSV\n",
    "results.to_csv('model_results.csv', index=False)\n",
    "\n",
    "print(\"Results saved successfully!\")\n"
   ]
  },
  {
   "cell_type": "code",
   "execution_count": null,
   "id": "7711da95-166c-4109-8cf3-dfa9de330f62",
   "metadata": {},
   "outputs": [],
   "source": []
  },
  {
   "cell_type": "code",
   "execution_count": null,
   "id": "0be9cd8f-e8a3-47e5-b421-c8412661ef1c",
   "metadata": {},
   "outputs": [],
   "source": []
  },
  {
   "cell_type": "code",
   "execution_count": null,
   "id": "b763a8ea-ac67-4977-af01-4ce6b5386619",
   "metadata": {},
   "outputs": [],
   "source": []
  },
  {
   "cell_type": "code",
   "execution_count": null,
   "id": "6cce3cfe-9eb5-4cbb-8221-f9c2caa1f4b1",
   "metadata": {},
   "outputs": [],
   "source": []
  }
 ],
 "metadata": {
  "kernelspec": {
   "display_name": "Python 3 (ipykernel)",
   "language": "python",
   "name": "python3"
  },
  "language_info": {
   "codemirror_mode": {
    "name": "ipython",
    "version": 3
   },
   "file_extension": ".py",
   "mimetype": "text/x-python",
   "name": "python",
   "nbconvert_exporter": "python",
   "pygments_lexer": "ipython3",
   "version": "3.11.7"
  }
 },
 "nbformat": 4,
 "nbformat_minor": 5
}
